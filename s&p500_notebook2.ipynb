{
 "cells": [
  {
   "cell_type": "code",
   "execution_count": 5,
   "metadata": {},
   "outputs": [],
   "source": [
    "import pandas as pd\n",
    "from surprise import Dataset, Reader, KNNBasic, SVD, accuracy\n",
    "from surprise.model_selection import cross_validate\n",
    "\n",
    "# Load the data\n",
    "df = pd.read_csv(\"Data_Customer_Portfolio.csv\")\n",
    "\n",
    "# Normalize the AmountPurchased column\n",
    "df['AmountPurchased'] = (df['AmountPurchased'] - df['AmountPurchased'].min()) / (df['AmountPurchased'].max() - df['AmountPurchased'].min())\n",
    "\n",
    "# Convert the DataFrame into the format required by surprise\n",
    "reader = Reader(rating_scale=(0, 1))\n",
    "data = Dataset.load_from_df(df[['CustomerID', 'CompanyTicker', 'AmountPurchased']], reader)"
   ]
  },
  {
   "cell_type": "code",
   "execution_count": 6,
   "metadata": {},
   "outputs": [
    {
     "name": "stdout",
     "output_type": "stream",
     "text": [
      "Computing the msd similarity matrix...\n",
      "Done computing similarity matrix.\n",
      "Computing the msd similarity matrix...\n",
      "Done computing similarity matrix.\n",
      "Computing the msd similarity matrix...\n",
      "Done computing similarity matrix.\n",
      "Computing the msd similarity matrix...\n",
      "Done computing similarity matrix.\n",
      "Computing the msd similarity matrix...\n",
      "Done computing similarity matrix.\n",
      "Evaluating RMSE, MAE of algorithm KNNBasic on 5 split(s).\n",
      "\n",
      "                  Fold 1  Fold 2  Fold 3  Fold 4  Fold 5  Mean    Std     \n",
      "RMSE (testset)    0.3576  0.3569  0.3492  0.3584  0.3455  0.3535  0.0052  \n",
      "MAE (testset)     0.2924  0.2950  0.2872  0.2963  0.2865  0.2915  0.0040  \n",
      "Fit time          0.00    0.00    0.00    0.00    0.00    0.00    0.00    \n",
      "Test time         0.01    0.00    0.01    0.01    0.01    0.01    0.00    \n",
      "Mean RMSE for KNN: 0.3535073105294049\n",
      "Mean MAE for KNN: 0.29148436247220066\n",
      "Evaluating RMSE, MAE of algorithm SVD on 5 split(s).\n",
      "\n",
      "                  Fold 1  Fold 2  Fold 3  Fold 4  Fold 5  Mean    Std     \n",
      "RMSE (testset)    0.3081  0.3110  0.3131  0.3103  0.3113  0.3108  0.0016  \n",
      "MAE (testset)     0.2606  0.2638  0.2687  0.2623  0.2612  0.2633  0.0029  \n",
      "Fit time          0.02    0.03    0.02    0.02    0.02    0.02    0.00    \n",
      "Test time         0.00    0.00    0.01    0.00    0.00    0.00    0.00    \n",
      "Mean RMSE for SVD: 0.310773985307419\n",
      "Mean MAE for SVD: 0.2633045393272019\n"
     ]
    }
   ],
   "source": [
    "knn_algo = KNNBasic(sim_options={'user_based': True})\n",
    "cv_results_knn = cross_validate(knn_algo, data, measures=['RMSE', 'MAE'], cv=5, verbose=True)\n",
    "\n",
    "# Print mean RMSE and MAE from cross-validation for KNN\n",
    "print(f\"Mean RMSE for KNN: {cv_results_knn['test_rmse'].mean()}\")\n",
    "print(f\"Mean MAE for KNN: {cv_results_knn['test_mae'].mean()}\")\n",
    "\n",
    "# Experiment with SVD algorithm\n",
    "svd_algo = SVD()\n",
    "cv_results_svd = cross_validate(svd_algo, data, measures=['RMSE', 'MAE'], cv=5, verbose=True)\n",
    "\n",
    "# Print mean RMSE and MAE from cross-validation for SVD\n",
    "print(f\"Mean RMSE for SVD: {cv_results_svd['test_rmse'].mean()}\")\n",
    "print(f\"Mean MAE for SVD: {cv_results_svd['test_mae'].mean()}\")\n",
    "\n",
    "\n",
    "\n"
   ]
  },
  {
   "cell_type": "code",
   "execution_count": 7,
   "metadata": {},
   "outputs": [
    {
     "data": {
      "text/plain": [
       "<surprise.prediction_algorithms.matrix_factorization.SVD at 0x2261b859270>"
      ]
     },
     "execution_count": 7,
     "metadata": {},
     "output_type": "execute_result"
    }
   ],
   "source": [
    "# Choose the best performing algorithm based on RMSE\n",
    "best_algo = knn_algo if cv_results_knn['test_rmse'].mean() < cv_results_svd['test_rmse'].mean() else svd_algo\n",
    "best_algo"
   ]
  },
  {
   "cell_type": "code",
   "execution_count": 8,
   "metadata": {},
   "outputs": [],
   "source": [
    "def get_recommendations(customer_id, algorithm, dataframe, n=10):\n",
    "    company_tickers = dataframe[\"CompanyTicker\"].unique()\n",
    "    identified_companies = dataframe[dataframe[\"CustomerID\"] == customer_id][\"CompanyTicker\"].unique()\n",
    "    companies_to_predict = [company for company in company_tickers if company not in identified_companies]\n",
    "    predictions = [algorithm.predict(customer_id, company) for company in companies_to_predict]\n",
    "    predictions.sort(key=lambda x: x.est, reverse=True)\n",
    "    top_recs = [pred.iid for pred in predictions[:n]]\n",
    "    return top_recs\n",
    "\n"
   ]
  },
  {
   "cell_type": "code",
   "execution_count": 9,
   "metadata": {},
   "outputs": [
    {
     "name": "stdout",
     "output_type": "stream",
     "text": [
      "Top 5 company recommendations for customer 10: ['DUK', 'TGT', 'MMC', 'HD', 'CTAS']\n"
     ]
    }
   ],
   "source": [
    "# Example usage\n",
    "customer_id = input(\"Enter customer id between 1-100\")\n",
    "recommendations = get_recommendations(customer_id, best_algo, df, n=5)\n",
    "print(f\"Top 5 company recommendations for customer {customer_id}: {recommendations}\")"
   ]
  },
  {
   "cell_type": "code",
   "execution_count": null,
   "metadata": {},
   "outputs": [],
   "source": []
  }
 ],
 "metadata": {
  "kernelspec": {
   "display_name": "Python 3",
   "language": "python",
   "name": "python3"
  },
  "language_info": {
   "codemirror_mode": {
    "name": "ipython",
    "version": 3
   },
   "file_extension": ".py",
   "mimetype": "text/x-python",
   "name": "python",
   "nbconvert_exporter": "python",
   "pygments_lexer": "ipython3",
   "version": "3.10.9"
  }
 },
 "nbformat": 4,
 "nbformat_minor": 2
}
